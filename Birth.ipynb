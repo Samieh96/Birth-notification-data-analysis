{
 "cells": [
  {
   "cell_type": "markdown",
   "metadata": {},
   "source": [
    "# DATA ANALYSIS OF BIRTH NOTIFICATION DATASET IN DUBAI\n",
    "\n",
    "## Import the Required Modules"
   ]
  },
  {
   "cell_type": "code",
   "execution_count": 412,
   "metadata": {
    "collapsed": true
   },
   "outputs": [],
   "source": [
    "import pandas as pd\n",
    "import numpy as np\n",
    "import matplotlib.pyplot as plt\n",
    "import seaborn as sns\n",
    "from scipy.stats import norm\n",
    "%matplotlib inline"
   ]
  },
  {
   "cell_type": "markdown",
   "metadata": {},
   "source": [
    "## Read the data"
   ]
  },
  {
   "cell_type": "code",
   "execution_count": 413,
   "metadata": {
    "collapsed": false
   },
   "outputs": [
    {
     "data": {
      "text/html": [
       "<div>\n",
       "<table border=\"1\" class=\"dataframe\">\n",
       "  <thead>\n",
       "    <tr style=\"text-align: right;\">\n",
       "      <th></th>\n",
       "      <th>source_system_name</th>\n",
       "      <th>facility_code</th>\n",
       "      <th>facility_name</th>\n",
       "      <th>sex_code</th>\n",
       "      <th>sex</th>\n",
       "      <th>order_of_birth_in_family_for_mother</th>\n",
       "      <th>place_of_birth</th>\n",
       "      <th>father_religion_code</th>\n",
       "      <th>father_religion</th>\n",
       "      <th>mother_religion_code</th>\n",
       "      <th>mother_religion</th>\n",
       "    </tr>\n",
       "  </thead>\n",
       "  <tbody>\n",
       "    <tr>\n",
       "      <th>0</th>\n",
       "      <td>SALAMA</td>\n",
       "      <td>1010301</td>\n",
       "      <td>LATIFA WOMEN AND CHILDREN HOSPITAL</td>\n",
       "      <td>1.0</td>\n",
       "      <td>Female</td>\n",
       "      <td>2.0</td>\n",
       "      <td>DUBAI</td>\n",
       "      <td>NaN</td>\n",
       "      <td>NaN</td>\n",
       "      <td>10</td>\n",
       "      <td>Muslim</td>\n",
       "    </tr>\n",
       "    <tr>\n",
       "      <th>1</th>\n",
       "      <td>SALAMA</td>\n",
       "      <td>1010301</td>\n",
       "      <td>LATIFA WOMEN AND CHILDREN HOSPITAL</td>\n",
       "      <td>2.0</td>\n",
       "      <td>Male</td>\n",
       "      <td>1.0</td>\n",
       "      <td>DUBAI</td>\n",
       "      <td>NaN</td>\n",
       "      <td>NaN</td>\n",
       "      <td>10</td>\n",
       "      <td>Muslim</td>\n",
       "    </tr>\n",
       "    <tr>\n",
       "      <th>2</th>\n",
       "      <td>SALAMA</td>\n",
       "      <td>1010201</td>\n",
       "      <td>DUBAI HOSPITAL</td>\n",
       "      <td>1.0</td>\n",
       "      <td>Female</td>\n",
       "      <td>2.0</td>\n",
       "      <td>DUBAI</td>\n",
       "      <td>NaN</td>\n",
       "      <td>NaN</td>\n",
       "      <td>10</td>\n",
       "      <td>Muslim</td>\n",
       "    </tr>\n",
       "    <tr>\n",
       "      <th>3</th>\n",
       "      <td>SALAMA</td>\n",
       "      <td>1010401</td>\n",
       "      <td>HATTA HOSPITAL</td>\n",
       "      <td>2.0</td>\n",
       "      <td>Male</td>\n",
       "      <td>2.0</td>\n",
       "      <td>DUBAI</td>\n",
       "      <td>NaN</td>\n",
       "      <td>NaN</td>\n",
       "      <td>10</td>\n",
       "      <td>Muslim</td>\n",
       "    </tr>\n",
       "    <tr>\n",
       "      <th>4</th>\n",
       "      <td>SALAMA</td>\n",
       "      <td>1010201</td>\n",
       "      <td>DUBAI HOSPITAL</td>\n",
       "      <td>2.0</td>\n",
       "      <td>Male</td>\n",
       "      <td>2.0</td>\n",
       "      <td>DUBAI</td>\n",
       "      <td>NaN</td>\n",
       "      <td>NaN</td>\n",
       "      <td>10</td>\n",
       "      <td>Muslim</td>\n",
       "    </tr>\n",
       "  </tbody>\n",
       "</table>\n",
       "</div>"
      ],
      "text/plain": [
       "  source_system_name  facility_code                       facility_name  \\\n",
       "0             SALAMA        1010301  LATIFA WOMEN AND CHILDREN HOSPITAL   \n",
       "1             SALAMA        1010301  LATIFA WOMEN AND CHILDREN HOSPITAL   \n",
       "2             SALAMA        1010201                      DUBAI HOSPITAL   \n",
       "3             SALAMA        1010401                      HATTA HOSPITAL   \n",
       "4             SALAMA        1010201                      DUBAI HOSPITAL   \n",
       "\n",
       "   sex_code     sex  order_of_birth_in_family_for_mother place_of_birth  \\\n",
       "0       1.0  Female                                  2.0          DUBAI   \n",
       "1       2.0    Male                                  1.0          DUBAI   \n",
       "2       1.0  Female                                  2.0          DUBAI   \n",
       "3       2.0    Male                                  2.0          DUBAI   \n",
       "4       2.0    Male                                  2.0          DUBAI   \n",
       "\n",
       "   father_religion_code father_religion mother_religion_code mother_religion  \n",
       "0                   NaN             NaN                   10          Muslim  \n",
       "1                   NaN             NaN                   10          Muslim  \n",
       "2                   NaN             NaN                   10          Muslim  \n",
       "3                   NaN             NaN                   10          Muslim  \n",
       "4                   NaN             NaN                   10          Muslim  "
      ]
     },
     "execution_count": 413,
     "metadata": {},
     "output_type": "execute_result"
    }
   ],
   "source": [
    "birth = pd.read_csv('C:\\\\Users\\\\Samieh\\\\PycharmProjects\\\\Birth\\\\Birth_Notification.csv')\n",
    "birth.head()"
   ]
  },
  {
   "cell_type": "code",
   "execution_count": 414,
   "metadata": {
    "collapsed": false
   },
   "outputs": [
    {
     "data": {
      "text/plain": [
       "Index(['source_system_name', 'facility_code', 'facility_name', 'sex_code',\n",
       "       'sex', 'order_of_birth_in_family_for_mother', 'place_of_birth',\n",
       "       'father_religion_code', 'father_religion', 'mother_religion_code',\n",
       "       'mother_religion'],\n",
       "      dtype='object')"
      ]
     },
     "execution_count": 414,
     "metadata": {},
     "output_type": "execute_result"
    }
   ],
   "source": [
    "birth.keys()"
   ]
  },
  {
   "cell_type": "code",
   "execution_count": 415,
   "metadata": {
    "collapsed": false
   },
   "outputs": [
    {
     "data": {
      "text/plain": [
       "(12299, 11)"
      ]
     },
     "execution_count": 415,
     "metadata": {},
     "output_type": "execute_result"
    }
   ],
   "source": [
    "np.shape(birth)"
   ]
  },
  {
   "cell_type": "code",
   "execution_count": 416,
   "metadata": {
    "collapsed": false
   },
   "outputs": [
    {
     "data": {
      "text/plain": [
       "source_system_name                      object\n",
       "facility_code                            int64\n",
       "facility_name                           object\n",
       "sex_code                               float64\n",
       "sex                                     object\n",
       "order_of_birth_in_family_for_mother    float64\n",
       "place_of_birth                          object\n",
       "father_religion_code                   float64\n",
       "father_religion                         object\n",
       "mother_religion_code                    object\n",
       "mother_religion                         object\n",
       "dtype: object"
      ]
     },
     "execution_count": 416,
     "metadata": {},
     "output_type": "execute_result"
    }
   ],
   "source": [
    "birth.dtypes"
   ]
  },
  {
   "cell_type": "markdown",
   "metadata": {},
   "source": [
    "## Data Cleaning\n",
    "Let's see which columns contain missing values in the Dataframe."
   ]
  },
  {
   "cell_type": "code",
   "execution_count": 417,
   "metadata": {
    "collapsed": false
   },
   "outputs": [
    {
     "data": {
      "text/plain": [
       "source_system_name                     False\n",
       "facility_code                          False\n",
       "facility_name                          False\n",
       "sex_code                                True\n",
       "sex                                     True\n",
       "order_of_birth_in_family_for_mother     True\n",
       "place_of_birth                         False\n",
       "father_religion_code                    True\n",
       "father_religion                         True\n",
       "mother_religion_code                    True\n",
       "mother_religion                         True\n",
       "dtype: bool"
      ]
     },
     "execution_count": 417,
     "metadata": {},
     "output_type": "execute_result"
    }
   ],
   "source": [
    "birth.isnull().any()"
   ]
  },
  {
   "cell_type": "markdown",
   "metadata": {},
   "source": [
    "Seven categories contain null values."
   ]
  },
  {
   "cell_type": "code",
   "execution_count": 418,
   "metadata": {
    "collapsed": false
   },
   "outputs": [
    {
     "data": {
      "text/plain": [
       "3"
      ]
     },
     "execution_count": 418,
     "metadata": {},
     "output_type": "execute_result"
    }
   ],
   "source": [
    "birth['sex_code'].isnull().sum()"
   ]
  },
  {
   "cell_type": "code",
   "execution_count": 419,
   "metadata": {
    "collapsed": false
   },
   "outputs": [
    {
     "data": {
      "text/plain": [
       "(array([6032, 6411, 6968], dtype=int64),)"
      ]
     },
     "execution_count": 419,
     "metadata": {},
     "output_type": "execute_result"
    }
   ],
   "source": [
    "np.where(birth['sex_code'].isnull())"
   ]
  },
  {
   "cell_type": "code",
   "execution_count": 420,
   "metadata": {
    "collapsed": false
   },
   "outputs": [],
   "source": [
    "#sinse female is more distributed we fill our NaN values with female gender\n",
    "birth['sex_code'].fillna(1.0, inplace=True)"
   ]
  },
  {
   "cell_type": "code",
   "execution_count": 421,
   "metadata": {
    "collapsed": false
   },
   "outputs": [
    {
     "data": {
      "text/plain": [
       "0"
      ]
     },
     "execution_count": 421,
     "metadata": {},
     "output_type": "execute_result"
    }
   ],
   "source": [
    "birth['sex_code'].isnull().sum()"
   ]
  },
  {
   "cell_type": "code",
   "execution_count": 422,
   "metadata": {
    "collapsed": false
   },
   "outputs": [
    {
     "data": {
      "text/plain": [
       "1.0"
      ]
     },
     "execution_count": 422,
     "metadata": {},
     "output_type": "execute_result"
    }
   ],
   "source": [
    "birth['sex_code'].iloc[6032]"
   ]
  },
  {
   "cell_type": "markdown",
   "metadata": {},
   "source": [
    "We replaced our 6032 index value with female."
   ]
  },
  {
   "cell_type": "code",
   "execution_count": 423,
   "metadata": {
    "collapsed": false
   },
   "outputs": [],
   "source": [
    "birth['sex'].fillna('Female', inplace=True)"
   ]
  },
  {
   "cell_type": "code",
   "execution_count": 424,
   "metadata": {
    "collapsed": false
   },
   "outputs": [
    {
     "data": {
      "text/plain": [
       "source_system_name                     False\n",
       "facility_code                          False\n",
       "facility_name                          False\n",
       "sex_code                               False\n",
       "sex                                    False\n",
       "order_of_birth_in_family_for_mother     True\n",
       "place_of_birth                         False\n",
       "father_religion_code                    True\n",
       "father_religion                         True\n",
       "mother_religion_code                    True\n",
       "mother_religion                         True\n",
       "dtype: bool"
      ]
     },
     "execution_count": 424,
     "metadata": {},
     "output_type": "execute_result"
    }
   ],
   "source": [
    "birth.isnull().any()"
   ]
  },
  {
   "cell_type": "code",
   "execution_count": 425,
   "metadata": {
    "collapsed": false
   },
   "outputs": [
    {
     "data": {
      "text/plain": [
       "36"
      ]
     },
     "execution_count": 425,
     "metadata": {},
     "output_type": "execute_result"
    }
   ],
   "source": [
    "birth['order_of_birth_in_family_for_mother'].isnull().sum()"
   ]
  },
  {
   "cell_type": "code",
   "execution_count": 426,
   "metadata": {
    "collapsed": true
   },
   "outputs": [],
   "source": [
    "birth['order_of_birth_in_family_for_mother'].fillna('', inplace=True)"
   ]
  },
  {
   "cell_type": "code",
   "execution_count": 427,
   "metadata": {
    "collapsed": false
   },
   "outputs": [
    {
     "data": {
      "text/plain": [
       "0"
      ]
     },
     "execution_count": 427,
     "metadata": {},
     "output_type": "execute_result"
    }
   ],
   "source": [
    "birth['order_of_birth_in_family_for_mother'].isnull().sum()"
   ]
  },
  {
   "cell_type": "markdown",
   "metadata": {},
   "source": [
    "# Fill the missing values with mode\n",
    "Fill the null values in mother_religion_code, mother_religion, father_religion and father_religion_code with mode. The mode of a set of data values is the value that appears most often."
   ]
  },
  {
   "cell_type": "code",
   "execution_count": 456,
   "metadata": {
    "collapsed": true
   },
   "outputs": [],
   "source": [
    "# Fill the missing values with mode\n",
    "for column in ['father_religion_code', 'mother_religion_code', 'mother_religion', 'father_religion']:\n",
    "    birth[column].fillna(birth[column].mode()[0], inplace=True)"
   ]
  },
  {
   "cell_type": "code",
   "execution_count": 457,
   "metadata": {
    "collapsed": false
   },
   "outputs": [
    {
     "data": {
      "text/plain": [
       "0"
      ]
     },
     "execution_count": 457,
     "metadata": {},
     "output_type": "execute_result"
    }
   ],
   "source": [
    "birth['father_religion_code'].isnull().sum()"
   ]
  },
  {
   "cell_type": "markdown",
   "metadata": {},
   "source": [
    "Let's be sure we don't have null values:"
   ]
  },
  {
   "cell_type": "code",
   "execution_count": 459,
   "metadata": {
    "collapsed": false
   },
   "outputs": [
    {
     "data": {
      "text/plain": [
       "source_system_name                     0\n",
       "facility_code                          0\n",
       "facility_name                          0\n",
       "sex_code                               0\n",
       "sex                                    0\n",
       "order_of_birth_in_family_for_mother    0\n",
       "place_of_birth                         0\n",
       "father_religion_code                   0\n",
       "father_religion                        0\n",
       "mother_religion_code                   0\n",
       "mother_religion                        0\n",
       "dtype: int64"
      ]
     },
     "execution_count": 459,
     "metadata": {},
     "output_type": "execute_result"
    }
   ],
   "source": [
    "birth.isnull().sum()"
   ]
  },
  {
   "cell_type": "markdown",
   "metadata": {},
   "source": [
    "Now we are finished with our null values."
   ]
  },
  {
   "cell_type": "markdown",
   "metadata": {},
   "source": [
    "# Data visualization"
   ]
  },
  {
   "cell_type": "code",
   "execution_count": 460,
   "metadata": {
    "collapsed": false
   },
   "outputs": [
    {
     "data": {
      "text/plain": [
       "2.0    6309\n",
       "1.0    5986\n",
       "3.0       4\n",
       "Name: sex_code, dtype: int64"
      ]
     },
     "execution_count": 460,
     "metadata": {},
     "output_type": "execute_result"
    }
   ],
   "source": [
    "birth['sex_code'].value_counts()"
   ]
  },
  {
   "cell_type": "markdown",
   "metadata": {},
   "source": [
    "We know sex codes are defined as below:\n",
    "\n",
    "1.0 for Males, 2.0 for Females and 3.0 for Male or Female (or mistyped)!"
   ]
  },
  {
   "cell_type": "code",
   "execution_count": 436,
   "metadata": {
    "collapsed": false
   },
   "outputs": [
    {
     "data": {
      "text/plain": [
       "<matplotlib.text.Text at 0xd93750a4a8>"
      ]
     },
     "execution_count": 436,
     "metadata": {},
     "output_type": "execute_result"
    },
    {
     "data": {
      "image/png": "[encoded data removed]",
      "text/plain": [
       "<matplotlib.figure.Figure at 0xd93747a518>"
      ]
     },
     "metadata": {},
     "output_type": "display_data"
    }
   ],
   "source": [
    "chart = sns.countplot(x='sex_code', data=birth, facecolor=(1,1,1,1),linewidth=5,edgecolor=sns.color_palette('dark',3))\n",
    "chart.set_title(\"gender distribution\", fontsize=20)\n",
    "chart.set_xlabel(\"Gender\",fontsize=16)\n",
    "chart.set_ylabel(\"Count\",fontsize=16)"
   ]
  },
  {
   "cell_type": "code",
   "execution_count": 437,
   "metadata": {
    "collapsed": false
   },
   "outputs": [
    {
     "data": {
      "text/plain": [
       "array(['LATIFA WOMEN AND CHILDREN HOSPITAL', 'DUBAI HOSPITAL',\n",
       "       'HATTA HOSPITAL'], dtype=object)"
      ]
     },
     "execution_count": 437,
     "metadata": {},
     "output_type": "execute_result"
    }
   ],
   "source": [
    "birth['facility_name'].unique()"
   ]
  },
  {
   "cell_type": "markdown",
   "metadata": {},
   "source": [
    "We have 3 hospitals in our dataset."
   ]
  },
  {
   "cell_type": "code",
   "execution_count": 438,
   "metadata": {
    "collapsed": false
   },
   "outputs": [
    {
     "data": {
      "text/plain": [
       "<matplotlib.text.Text at 0xd937560240>"
      ]
     },
     "execution_count": 438,
     "metadata": {},
     "output_type": "execute_result"
    },
    {
     "data": {
      "image/png": "[encoded data removed]",
      "text/plain": [
       "<matplotlib.figure.Figure at 0xd9374ff9b0>"
      ]
     },
     "metadata": {},
     "output_type": "display_data"
    }
   ],
   "source": [
    "plt.figure(figsize=(6,5))\n",
    "chart = sns.countplot(x='facility_name', data=birth, facecolor=(1,1,1),edgecolor=sns.color_palette(\"dark\",3),linewidth=4)\n",
    "chart.set_xticklabels(chart.get_xticklabels(), rotation=90, horizontalalignment='right')\n",
    "chart.set_xlabel(\"Hospital name\",fontsize=18)\n",
    "chart.set_ylabel(\"Count\",fontsize=18)"
   ]
  },
  {
   "cell_type": "code",
   "execution_count": 439,
   "metadata": {
    "collapsed": false
   },
   "outputs": [
    {
     "data": {
      "text/plain": [
       "array(['DUBAI'], dtype=object)"
      ]
     },
     "execution_count": 439,
     "metadata": {},
     "output_type": "execute_result"
    }
   ],
   "source": [
    "birth['place_of_birth'].unique()\n",
    "#Not a surprise!!"
   ]
  },
  {
   "cell_type": "code",
   "execution_count": 461,
   "metadata": {
    "collapsed": false
   },
   "outputs": [
    {
     "data": {
      "text/plain": [
       "array(['Muslim', 'Hindu', 'Unknown', 'Jain', 'Christian', 'None',\n",
       "       'Catholic', 'Nazarene', 'Other', 'Sikh', 'Buddhist', 'Shinto',\n",
       "       'Episcopalian', 'Methodist'], dtype=object)"
      ]
     },
     "execution_count": 461,
     "metadata": {},
     "output_type": "execute_result"
    }
   ],
   "source": [
    "#uniqueness of reliogions\n",
    "birth['mother_religion'].unique()"
   ]
  },
  {
   "cell_type": "code",
   "execution_count": 462,
   "metadata": {
    "collapsed": false
   },
   "outputs": [
    {
     "data": {
      "text/plain": [
       "Muslim       12070\n",
       "Christian      153\n",
       "Other           64\n",
       "Unknown          9\n",
       "Hindu            3\n",
       "Name: father_religion, dtype: int64"
      ]
     },
     "execution_count": 462,
     "metadata": {},
     "output_type": "execute_result"
    }
   ],
   "source": [
    "#uniqueness of reliogions\n",
    "birth['father_religion'].value_counts()"
   ]
  },
  {
   "cell_type": "code",
   "execution_count": 463,
   "metadata": {
    "collapsed": false
   },
   "outputs": [
    {
     "data": {
      "text/plain": [
       "<matplotlib.text.Text at 0xd939a6bcf8>"
      ]
     },
     "execution_count": 463,
     "metadata": {},
     "output_type": "execute_result"
    },
    {
     "data": {
      "image/png": "[encoded data removed]",
      "text/plain": [
       "<matplotlib.figure.Figure at 0xd93880c240>"
      ]
     },
     "metadata": {},
     "output_type": "display_data"
    }
   ],
   "source": [
    "plt.figure(figsize=(10,5))\n",
    "chart = sns.countplot(x='father_religion', data=birth, facecolor=(1,1,1),edgecolor=sns.color_palette(\"dark\",3),linewidth=4)\n",
    "chart.set_xticklabels(chart.get_xticklabels(), rotation=90, horizontalalignment='right')\n",
    "chart.set_title(\"Father's religion\", fontsize=20)\n",
    "chart.set_xlabel(\"Religions\",fontsize=18)\n",
    "chart.set_ylabel(\"Count\",fontsize=18)"
   ]
  },
  {
   "cell_type": "code",
   "execution_count": 464,
   "metadata": {
    "collapsed": false
   },
   "outputs": [
    {
     "data": {
      "text/plain": [
       "<matplotlib.text.Text at 0xd938804d68>"
      ]
     },
     "execution_count": 464,
     "metadata": {},
     "output_type": "execute_result"
    },
    {
     "data": {
      "image/png": "[encoded data removed]",
      "text/plain": [
       "<matplotlib.figure.Figure at 0xd939906668>"
      ]
     },
     "metadata": {},
     "output_type": "display_data"
    }
   ],
   "source": [
    "plt.figure(figsize=(16,5))\n",
    "chart = sns.countplot(x='mother_religion', data=birth, facecolor=(1,1,1),edgecolor=sns.color_palette(\"dark\",3),linewidth=4)\n",
    "chart.set_xticklabels(chart.get_xticklabels(), rotation=90, horizontalalignment='right')\n",
    "chart.set_title(\"Mother's religion\", fontsize=20)\n",
    "chart.set_xlabel(\"Religions\",fontsize=18)\n",
    "chart.set_ylabel(\"Count\",fontsize=18)"
   ]
  },
  {
   "cell_type": "markdown",
   "metadata": {},
   "source": [
    "Well most of children were born from Muslim parents. "
   ]
  },
  {
   "cell_type": "code",
   "execution_count": null,
   "metadata": {
    "collapsed": true
   },
   "outputs": [],
   "source": []
  }
 ],
 "metadata": {
  "kernelspec": {
   "display_name": "Python 3",
   "language": "python",
   "name": "python3"
  },
  "language_info": {
   "codemirror_mode": {
    "name": "ipython",
    "version": 3
   },
   "file_extension": ".py",
   "mimetype": "text/x-python",
   "name": "python",
   "nbconvert_exporter": "python",
   "pygments_lexer": "ipython3",
   "version": "3.6.0"
  }
 },
 "nbformat": 4,
 "nbformat_minor": 2
}
